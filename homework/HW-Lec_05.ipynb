{
 "cells": [
  {
   "cell_type": "code",
   "execution_count": 47,
   "id": "7a62630a",
   "metadata": {},
   "outputs": [
    {
     "name": "stdout",
     "output_type": "stream",
     "text": [
      "Rectangle Rule:\n",
      "7.491004499999997\n",
      "46.98308099999192\n",
      "0.887707162589475\n",
      "\n",
      "Trapezoid Rule:\n",
      "7.479026986500002\n",
      "46.8635617714778\n",
      "0.8862069741142299\n",
      "\n",
      "Simpson Rule:\n",
      "7.499999999999902\n",
      "47.10000000003126\n",
      "0.8862073482595162\n",
      "\n",
      "The number of sampling points needed is 3.\n"
     ]
    }
   ],
   "source": [
    "import matplotlib.pyplot as plt\n",
    "import numpy as np\n",
    "import math\n",
    "\n",
    "def rectangle_rule(low, high, f, N):\n",
    "    rectangle_edges=np.linspace(low, high, N)\n",
    "    area = 0\n",
    "    for r in range(len(rectangle_edges)):\n",
    "        area+=f(low+r*(high - low)/N)*(high-low)/N\n",
    "    return (area)\n",
    "\n",
    "def trapezoid_rule(low, high, f, N):\n",
    "    h=(high-low)/N\n",
    "    x=np.linspace(low, high, N+1)\n",
    "    dx= x[1]-x[0]\n",
    "    area = 0\n",
    "    for i in range(1, N):\n",
    "        area+=(f(x[i-1]) + f(x[i])) * dx/2\n",
    "    return (area)\n",
    "\n",
    "def simpson_rule(low, high, f, N):\n",
    "    h=(high-low)/N\n",
    "    first = f(low)\n",
    "    last = f(high)\n",
    "    x = low\n",
    "    Sum = 0\n",
    "    for i in range(N-1):\n",
    "        x += h\n",
    "        value = f(x)\n",
    "        if i % 2 == 0:\n",
    "            Sum += 4 * value\n",
    "        else:\n",
    "            Sum += 2 * value\n",
    "    area = (h/3)*(first+Sum+last)\n",
    "    return (area)\n",
    "        \n",
    "def polynomial1(x):\n",
    "    return(x**2-x+1)\n",
    "\n",
    "def polynomial2(x):\n",
    "    return(x**4-x+1)\n",
    "\n",
    "def polynomial3(x):\n",
    "    return(math.exp(-x**2))\n",
    "\n",
    "print(\"Rectangle Rule:\")\n",
    "print(rectangle_rule(0, 3, polynomial1, 1000))\n",
    "print(rectangle_rule(0, 3, polynomial2, 1000))\n",
    "print(rectangle_rule(0, 3, polynomial3, 1000))\n",
    "\n",
    "print(\"\")\n",
    "print(\"Trapezoid Rule:\")\n",
    "print(trapezoid_rule(0, 3, polynomial1, 1000))\n",
    "print(trapezoid_rule(0, 3, polynomial2, 1000))\n",
    "print(trapezoid_rule(0, 3, polynomial3, 1000))\n",
    "\n",
    "print(\"\")\n",
    "print(\"Simpson Rule:\")\n",
    "print(simpson_rule(0, 3, polynomial1, 1000))\n",
    "print(simpson_rule(0, 3, polynomial2, 1000))\n",
    "print(simpson_rule(0, 3, polynomial3, 1000))\n",
    "\n",
    "print(\"\")\n",
    "print(\"The number of sampling points needed is 3.\")"
   ]
  },
  {
   "cell_type": "code",
   "execution_count": null,
   "id": "0a7201ea",
   "metadata": {},
   "outputs": [],
   "source": []
  }
 ],
 "metadata": {
  "kernelspec": {
   "display_name": "Python 3 (ipykernel)",
   "language": "python",
   "name": "python3"
  },
  "language_info": {
   "codemirror_mode": {
    "name": "ipython",
    "version": 3
   },
   "file_extension": ".py",
   "mimetype": "text/x-python",
   "name": "python",
   "nbconvert_exporter": "python",
   "pygments_lexer": "ipython3",
   "version": "3.9.12"
  }
 },
 "nbformat": 4,
 "nbformat_minor": 5
}
