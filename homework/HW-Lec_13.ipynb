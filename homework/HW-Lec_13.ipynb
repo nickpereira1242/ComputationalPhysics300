{
 "cells": [
  {
   "cell_type": "code",
   "execution_count": 46,
   "id": "1bfcfbac",
   "metadata": {},
   "outputs": [
    {
     "name": "stdout",
     "output_type": "stream",
     "text": [
      "dice 1 : 6\n",
      "dice 2 : 5\n",
      "Sum of dice: 11\n"
     ]
    }
   ],
   "source": [
    "import numpy as np\n",
    "\n",
    "arr = [0] * 2\n",
    "for i in range(2):\n",
    "    arr[i] = np.random.randint(1, 7)\n",
    "    print(\"dice\", i+1, \":\", arr[i])\n",
    "Sum = sum(arr)\n",
    "print(\"Sum of dice:\", Sum)\n",
    "    "
   ]
  },
  {
   "cell_type": "code",
   "execution_count": 57,
   "id": "00c28396",
   "metadata": {},
   "outputs": [
    {
     "name": "stdout",
     "output_type": "stream",
     "text": [
      "The probability was: 0.0279\n"
     ]
    }
   ],
   "source": [
    "import numpy as np\n",
    "\n",
    "N0 = 1000000\n",
    "N1 = 0\n",
    "N2 = 0\n",
    "arr0 = [0] * 500000\n",
    "arr1 = [0] * 500000\n",
    "for i in range(2):\n",
    "    for j in range(500000):\n",
    "        arr0[i] = np.random.randint(1, 7)\n",
    "        arr1[j] = np.random.randint(1, 7)\n",
    "        Sum = arr0[i] + arr1[j]\n",
    "        if Sum == 12:\n",
    "            N1+=1\n",
    "N2 = N1/N0\n",
    "print(\"The probability was:\", N2)"
   ]
  },
  {
   "cell_type": "code",
   "execution_count": 61,
   "id": "b0f58aee",
   "metadata": {},
   "outputs": [
    {
     "name": "stdout",
     "output_type": "stream",
     "text": [
      "7\n",
      "5\n",
      "2\n",
      "3\n",
      "10\n"
     ]
    }
   ],
   "source": [
    "import matplotlib.pyplot as plt\n",
    "\n",
    "N = 5\n",
    "a = 1624\n",
    "c = 1012\n",
    "m = 11 #2**31-1 #4245035300\n",
    "x = 1\n",
    "results = []\n",
    "\n",
    "for i in range(N):      \n",
    "    x = (a*x+c)%m\n",
    "    results.append(x)\n",
    "    print(x)\n",
    "     "
   ]
  },
  {
   "cell_type": "code",
   "execution_count": null,
   "id": "614961d4",
   "metadata": {},
   "outputs": [],
   "source": []
  }
 ],
 "metadata": {
  "kernelspec": {
   "display_name": "Python 3 (ipykernel)",
   "language": "python",
   "name": "python3"
  },
  "language_info": {
   "codemirror_mode": {
    "name": "ipython",
    "version": 3
   },
   "file_extension": ".py",
   "mimetype": "text/x-python",
   "name": "python",
   "nbconvert_exporter": "python",
   "pygments_lexer": "ipython3",
   "version": "3.9.12"
  }
 },
 "nbformat": 4,
 "nbformat_minor": 5
}
